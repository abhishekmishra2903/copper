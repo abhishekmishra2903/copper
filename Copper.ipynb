{
 "cells": [
  {
   "cell_type": "code",
   "execution_count": 1,
   "id": "6fff24a5",
   "metadata": {
    "scrolled": true
   },
   "outputs": [
    {
     "name": "stderr",
     "output_type": "stream",
     "text": [
      "C:\\Users\\Admin\\AppData\\Local\\Temp\\ipykernel_7728\\1582395619.py:4: DtypeWarning: Columns (2) have mixed types. Specify dtype option on import or set low_memory=False.\n",
      "  df=pd.read_csv('Copper.csv')\n"
     ]
    },
    {
     "data": {
      "text/html": [
       "<div>\n",
       "<style scoped>\n",
       "    .dataframe tbody tr th:only-of-type {\n",
       "        vertical-align: middle;\n",
       "    }\n",
       "\n",
       "    .dataframe tbody tr th {\n",
       "        vertical-align: top;\n",
       "    }\n",
       "\n",
       "    .dataframe thead th {\n",
       "        text-align: right;\n",
       "    }\n",
       "</style>\n",
       "<table border=\"1\" class=\"dataframe\">\n",
       "  <thead>\n",
       "    <tr style=\"text-align: right;\">\n",
       "      <th></th>\n",
       "      <th>id</th>\n",
       "      <th>item_date</th>\n",
       "      <th>quantity tons</th>\n",
       "      <th>customer</th>\n",
       "      <th>country</th>\n",
       "      <th>status</th>\n",
       "      <th>item type</th>\n",
       "      <th>application</th>\n",
       "      <th>thickness</th>\n",
       "      <th>width</th>\n",
       "      <th>material_ref</th>\n",
       "      <th>product_ref</th>\n",
       "      <th>delivery date</th>\n",
       "      <th>selling_price</th>\n",
       "    </tr>\n",
       "  </thead>\n",
       "  <tbody>\n",
       "    <tr>\n",
       "      <th>0</th>\n",
       "      <td>EC06F063-9DF0-440C-8764-0B0C05A4F6AE</td>\n",
       "      <td>20210401.0</td>\n",
       "      <td>54.151139</td>\n",
       "      <td>30156308.0</td>\n",
       "      <td>28.0</td>\n",
       "      <td>Won</td>\n",
       "      <td>W</td>\n",
       "      <td>10.0</td>\n",
       "      <td>2.00</td>\n",
       "      <td>1500.0</td>\n",
       "      <td>DEQ1 S460MC</td>\n",
       "      <td>1670798778</td>\n",
       "      <td>20210701.0</td>\n",
       "      <td>854.00</td>\n",
       "    </tr>\n",
       "    <tr>\n",
       "      <th>1</th>\n",
       "      <td>4E5F4B3D-DDDF-499D-AFDE-A3227EC49425</td>\n",
       "      <td>20210401.0</td>\n",
       "      <td>768.024839</td>\n",
       "      <td>30202938.0</td>\n",
       "      <td>25.0</td>\n",
       "      <td>Won</td>\n",
       "      <td>W</td>\n",
       "      <td>41.0</td>\n",
       "      <td>0.80</td>\n",
       "      <td>1210.0</td>\n",
       "      <td>0000000000000000000000000000000000104991</td>\n",
       "      <td>1668701718</td>\n",
       "      <td>20210401.0</td>\n",
       "      <td>1047.00</td>\n",
       "    </tr>\n",
       "    <tr>\n",
       "      <th>2</th>\n",
       "      <td>E140FF1B-2407-4C02-A0DD-780A093B1158</td>\n",
       "      <td>20210401.0</td>\n",
       "      <td>386.127949</td>\n",
       "      <td>30153963.0</td>\n",
       "      <td>30.0</td>\n",
       "      <td>Won</td>\n",
       "      <td>WI</td>\n",
       "      <td>28.0</td>\n",
       "      <td>0.38</td>\n",
       "      <td>952.0</td>\n",
       "      <td>S0380700</td>\n",
       "      <td>628377</td>\n",
       "      <td>20210101.0</td>\n",
       "      <td>644.33</td>\n",
       "    </tr>\n",
       "    <tr>\n",
       "      <th>3</th>\n",
       "      <td>F8D507A0-9C62-4EFE-831E-33E1DA53BB50</td>\n",
       "      <td>20210401.0</td>\n",
       "      <td>202.411065</td>\n",
       "      <td>30349574.0</td>\n",
       "      <td>32.0</td>\n",
       "      <td>Won</td>\n",
       "      <td>S</td>\n",
       "      <td>59.0</td>\n",
       "      <td>2.30</td>\n",
       "      <td>1317.0</td>\n",
       "      <td>DX51D+ZM310MAO 2.3X1317</td>\n",
       "      <td>1668701718</td>\n",
       "      <td>20210101.0</td>\n",
       "      <td>768.00</td>\n",
       "    </tr>\n",
       "    <tr>\n",
       "      <th>4</th>\n",
       "      <td>4E1C4E78-152B-430A-8094-ADD889C9D0AD</td>\n",
       "      <td>20210401.0</td>\n",
       "      <td>785.526262</td>\n",
       "      <td>30211560.0</td>\n",
       "      <td>28.0</td>\n",
       "      <td>Won</td>\n",
       "      <td>W</td>\n",
       "      <td>10.0</td>\n",
       "      <td>4.00</td>\n",
       "      <td>2000.0</td>\n",
       "      <td>2_S275JR+AR-CL1</td>\n",
       "      <td>640665</td>\n",
       "      <td>20210301.0</td>\n",
       "      <td>577.00</td>\n",
       "    </tr>\n",
       "    <tr>\n",
       "      <th>...</th>\n",
       "      <td>...</td>\n",
       "      <td>...</td>\n",
       "      <td>...</td>\n",
       "      <td>...</td>\n",
       "      <td>...</td>\n",
       "      <td>...</td>\n",
       "      <td>...</td>\n",
       "      <td>...</td>\n",
       "      <td>...</td>\n",
       "      <td>...</td>\n",
       "      <td>...</td>\n",
       "      <td>...</td>\n",
       "      <td>...</td>\n",
       "      <td>...</td>\n",
       "    </tr>\n",
       "    <tr>\n",
       "      <th>181668</th>\n",
       "      <td>DE633116-D1DF-4846-982E-55EFC3658A76</td>\n",
       "      <td>20200702.0</td>\n",
       "      <td>102.4824216</td>\n",
       "      <td>30200854.0</td>\n",
       "      <td>25.0</td>\n",
       "      <td>Won</td>\n",
       "      <td>W</td>\n",
       "      <td>41.0</td>\n",
       "      <td>0.96</td>\n",
       "      <td>1220.0</td>\n",
       "      <td>0000000000000000000000000000000001000777</td>\n",
       "      <td>164141591</td>\n",
       "      <td>20200701.0</td>\n",
       "      <td>591.00</td>\n",
       "    </tr>\n",
       "    <tr>\n",
       "      <th>181669</th>\n",
       "      <td>A48374B1-E6DB-45F2-889A-1F9C27C099EB</td>\n",
       "      <td>20200702.0</td>\n",
       "      <td>208.0864686</td>\n",
       "      <td>30200854.0</td>\n",
       "      <td>25.0</td>\n",
       "      <td>Won</td>\n",
       "      <td>W</td>\n",
       "      <td>41.0</td>\n",
       "      <td>0.95</td>\n",
       "      <td>1500.0</td>\n",
       "      <td>0000000000000000000000000000000001000227</td>\n",
       "      <td>164141591</td>\n",
       "      <td>20200701.0</td>\n",
       "      <td>589.00</td>\n",
       "    </tr>\n",
       "    <tr>\n",
       "      <th>181670</th>\n",
       "      <td>91643238-5C7B-4237-9A5F-63AE3D35F320</td>\n",
       "      <td>20200702.0</td>\n",
       "      <td>4.235593568</td>\n",
       "      <td>30200854.0</td>\n",
       "      <td>25.0</td>\n",
       "      <td>Won</td>\n",
       "      <td>W</td>\n",
       "      <td>41.0</td>\n",
       "      <td>0.71</td>\n",
       "      <td>1250.0</td>\n",
       "      <td>0000000000000000000000000000000001004216</td>\n",
       "      <td>164141591</td>\n",
       "      <td>20200701.0</td>\n",
       "      <td>619.00</td>\n",
       "    </tr>\n",
       "    <tr>\n",
       "      <th>181671</th>\n",
       "      <td>7AFFD323-01D9-4E15-B80D-7D1B03498FC8</td>\n",
       "      <td>20200702.0</td>\n",
       "      <td>-2000</td>\n",
       "      <td>30200854.0</td>\n",
       "      <td>25.0</td>\n",
       "      <td>Won</td>\n",
       "      <td>W</td>\n",
       "      <td>41.0</td>\n",
       "      <td>0.85</td>\n",
       "      <td>1250.0</td>\n",
       "      <td>0000000000000000000000000000000001001149</td>\n",
       "      <td>164141591</td>\n",
       "      <td>20200701.0</td>\n",
       "      <td>601.00</td>\n",
       "    </tr>\n",
       "    <tr>\n",
       "      <th>181672</th>\n",
       "      <td>AD0CA853-AE3C-4B2F-9FBB-8B0B965F84BC</td>\n",
       "      <td>20200702.0</td>\n",
       "      <td>406.6865384</td>\n",
       "      <td>30200854.0</td>\n",
       "      <td>25.0</td>\n",
       "      <td>Won</td>\n",
       "      <td>W</td>\n",
       "      <td>41.0</td>\n",
       "      <td>0.71</td>\n",
       "      <td>1240.0</td>\n",
       "      <td>0000000000000000000000000000000001005439</td>\n",
       "      <td>164141591</td>\n",
       "      <td>20200701.0</td>\n",
       "      <td>607.00</td>\n",
       "    </tr>\n",
       "  </tbody>\n",
       "</table>\n",
       "<p>181673 rows × 14 columns</p>\n",
       "</div>"
      ],
      "text/plain": [
       "                                          id   item_date quantity tons  \\\n",
       "0       EC06F063-9DF0-440C-8764-0B0C05A4F6AE  20210401.0     54.151139   \n",
       "1       4E5F4B3D-DDDF-499D-AFDE-A3227EC49425  20210401.0    768.024839   \n",
       "2       E140FF1B-2407-4C02-A0DD-780A093B1158  20210401.0    386.127949   \n",
       "3       F8D507A0-9C62-4EFE-831E-33E1DA53BB50  20210401.0    202.411065   \n",
       "4       4E1C4E78-152B-430A-8094-ADD889C9D0AD  20210401.0    785.526262   \n",
       "...                                      ...         ...           ...   \n",
       "181668  DE633116-D1DF-4846-982E-55EFC3658A76  20200702.0   102.4824216   \n",
       "181669  A48374B1-E6DB-45F2-889A-1F9C27C099EB  20200702.0   208.0864686   \n",
       "181670  91643238-5C7B-4237-9A5F-63AE3D35F320  20200702.0   4.235593568   \n",
       "181671  7AFFD323-01D9-4E15-B80D-7D1B03498FC8  20200702.0         -2000   \n",
       "181672  AD0CA853-AE3C-4B2F-9FBB-8B0B965F84BC  20200702.0   406.6865384   \n",
       "\n",
       "          customer  country status item type  application  thickness   width  \\\n",
       "0       30156308.0     28.0    Won         W         10.0       2.00  1500.0   \n",
       "1       30202938.0     25.0    Won         W         41.0       0.80  1210.0   \n",
       "2       30153963.0     30.0    Won        WI         28.0       0.38   952.0   \n",
       "3       30349574.0     32.0    Won         S         59.0       2.30  1317.0   \n",
       "4       30211560.0     28.0    Won         W         10.0       4.00  2000.0   \n",
       "...            ...      ...    ...       ...          ...        ...     ...   \n",
       "181668  30200854.0     25.0    Won         W         41.0       0.96  1220.0   \n",
       "181669  30200854.0     25.0    Won         W         41.0       0.95  1500.0   \n",
       "181670  30200854.0     25.0    Won         W         41.0       0.71  1250.0   \n",
       "181671  30200854.0     25.0    Won         W         41.0       0.85  1250.0   \n",
       "181672  30200854.0     25.0    Won         W         41.0       0.71  1240.0   \n",
       "\n",
       "                                    material_ref  product_ref  delivery date  \\\n",
       "0                                    DEQ1 S460MC   1670798778     20210701.0   \n",
       "1       0000000000000000000000000000000000104991   1668701718     20210401.0   \n",
       "2                                       S0380700       628377     20210101.0   \n",
       "3                        DX51D+ZM310MAO 2.3X1317   1668701718     20210101.0   \n",
       "4                                2_S275JR+AR-CL1       640665     20210301.0   \n",
       "...                                          ...          ...            ...   \n",
       "181668  0000000000000000000000000000000001000777    164141591     20200701.0   \n",
       "181669  0000000000000000000000000000000001000227    164141591     20200701.0   \n",
       "181670  0000000000000000000000000000000001004216    164141591     20200701.0   \n",
       "181671  0000000000000000000000000000000001001149    164141591     20200701.0   \n",
       "181672  0000000000000000000000000000000001005439    164141591     20200701.0   \n",
       "\n",
       "        selling_price  \n",
       "0              854.00  \n",
       "1             1047.00  \n",
       "2              644.33  \n",
       "3              768.00  \n",
       "4              577.00  \n",
       "...               ...  \n",
       "181668         591.00  \n",
       "181669         589.00  \n",
       "181670         619.00  \n",
       "181671         601.00  \n",
       "181672         607.00  \n",
       "\n",
       "[181673 rows x 14 columns]"
      ]
     },
     "execution_count": 1,
     "metadata": {},
     "output_type": "execute_result"
    }
   ],
   "source": [
    "# Loading data and displaying for visualization\n",
    "\n",
    "import pandas as pd\n",
    "df=pd.read_csv('Copper.csv')\n",
    "df"
   ]
  },
  {
   "cell_type": "code",
   "execution_count": 2,
   "id": "f7c533e5",
   "metadata": {},
   "outputs": [],
   "source": [
    "# dropping the columns that obviously doesn't have any corelation with price\n",
    "# price can depend on date factor but since item date and delivery date are related so keeping \n",
    "# one of them e.g.item date.\n",
    "\n",
    "df = df.drop(['material_ref'],axis=1)\n",
    "df = df.drop(['id'],axis=1)\n",
    "df = df.drop(['product_ref'],axis=1)\n",
    "df = df.drop(['customer'],axis=1)\n",
    "df = df.drop(['delivery date'],axis=1)"
   ]
  },
  {
   "cell_type": "code",
   "execution_count": 3,
   "id": "e2d010e2",
   "metadata": {},
   "outputs": [
    {
     "data": {
      "text/plain": [
       "array([10., 41., 28., 59., 15.,  4., 38., 56., 42., 26., 27., 19., 20.,\n",
       "       66., 29., 22., 40., 25., 67., 79.,  3., 99.,  2.,  5., 39., 69.,\n",
       "       70., 65., 58., 68., nan])"
      ]
     },
     "execution_count": 3,
     "metadata": {},
     "output_type": "execute_result"
    }
   ],
   "source": [
    "# Not sure about 'application' column. Let's check the values it has.\n",
    "\n",
    "df['application'].unique()"
   ]
  },
  {
   "cell_type": "code",
   "execution_count": 4,
   "id": "aa665026",
   "metadata": {},
   "outputs": [
    {
     "data": {
      "text/plain": [
       "0.001461511796643426"
      ]
     },
     "execution_count": 4,
     "metadata": {},
     "output_type": "execute_result"
    }
   ],
   "source": [
    "# checking the correlation, it is significant so we should keep it\n",
    "\n",
    "df['application'].corr(df['selling_price'])"
   ]
  },
  {
   "cell_type": "code",
   "execution_count": 5,
   "id": "155b8344",
   "metadata": {
    "scrolled": true
   },
   "outputs": [
    {
     "name": "stdout",
     "output_type": "stream",
     "text": [
      "24\n"
     ]
    }
   ],
   "source": [
    "# checking null values in application\n",
    "\n",
    "print(df['application'].isna().sum())"
   ]
  },
  {
   "cell_type": "code",
   "execution_count": 6,
   "id": "04f66b35",
   "metadata": {},
   "outputs": [],
   "source": [
    "# removing the rows with null values\n",
    "\n",
    "df = df.drop(df[df['application'].isna()].index)"
   ]
  },
  {
   "cell_type": "code",
   "execution_count": 7,
   "id": "82e90b32",
   "metadata": {
    "scrolled": true
   },
   "outputs": [
    {
     "name": "stdout",
     "output_type": "stream",
     "text": [
      "1\n"
     ]
    }
   ],
   "source": [
    "# checking for nan values in item_date\n",
    "\n",
    "print(df['item_date'].isna().sum())"
   ]
  },
  {
   "cell_type": "code",
   "execution_count": 8,
   "id": "0d74ae44",
   "metadata": {},
   "outputs": [],
   "source": [
    "df = df.drop(df[df['item_date'].isna()].index)"
   ]
  },
  {
   "cell_type": "code",
   "execution_count": 9,
   "id": "49c2f076",
   "metadata": {},
   "outputs": [],
   "source": [
    "# Transforming item_date into pandas datetime format\n",
    "\n",
    "df['item_date']=df['item_date'].apply(lambda x: str(x))\n",
    "df['item_date']=df['item_date'].apply(lambda x: x[0:4]+'-'+x[4:6]+'-'+x[6:8])"
   ]
  },
  {
   "cell_type": "code",
   "execution_count": 10,
   "id": "45a95b5e",
   "metadata": {},
   "outputs": [
    {
     "data": {
      "text/html": [
       "<div>\n",
       "<style scoped>\n",
       "    .dataframe tbody tr th:only-of-type {\n",
       "        vertical-align: middle;\n",
       "    }\n",
       "\n",
       "    .dataframe tbody tr th {\n",
       "        vertical-align: top;\n",
       "    }\n",
       "\n",
       "    .dataframe thead th {\n",
       "        text-align: right;\n",
       "    }\n",
       "</style>\n",
       "<table border=\"1\" class=\"dataframe\">\n",
       "  <thead>\n",
       "    <tr style=\"text-align: right;\">\n",
       "      <th></th>\n",
       "      <th>item_date</th>\n",
       "    </tr>\n",
       "  </thead>\n",
       "  <tbody>\n",
       "    <tr>\n",
       "      <th>52</th>\n",
       "      <td>1995-00-00</td>\n",
       "    </tr>\n",
       "  </tbody>\n",
       "</table>\n",
       "</div>"
      ],
      "text/plain": [
       "     item_date\n",
       "52  1995-00-00"
      ]
     },
     "execution_count": 10,
     "metadata": {},
     "output_type": "execute_result"
    }
   ],
   "source": [
    "# Got error msg for this date as month and date can't be 0, so removing it\n",
    "\n",
    "df[['item_date']][df['item_date']=='1995-00-00']"
   ]
  },
  {
   "cell_type": "code",
   "execution_count": 11,
   "id": "2fff55ea",
   "metadata": {},
   "outputs": [],
   "source": [
    "df = df.drop(df[df['item_date']=='1995-00-00'].index)"
   ]
  },
  {
   "cell_type": "code",
   "execution_count": 12,
   "id": "1b43c993",
   "metadata": {},
   "outputs": [
    {
     "data": {
      "text/html": [
       "<div>\n",
       "<style scoped>\n",
       "    .dataframe tbody tr th:only-of-type {\n",
       "        vertical-align: middle;\n",
       "    }\n",
       "\n",
       "    .dataframe tbody tr th {\n",
       "        vertical-align: top;\n",
       "    }\n",
       "\n",
       "    .dataframe thead th {\n",
       "        text-align: right;\n",
       "    }\n",
       "</style>\n",
       "<table border=\"1\" class=\"dataframe\">\n",
       "  <thead>\n",
       "    <tr style=\"text-align: right;\">\n",
       "      <th></th>\n",
       "      <th>item_date</th>\n",
       "    </tr>\n",
       "  </thead>\n",
       "  <tbody>\n",
       "    <tr>\n",
       "      <th>105485</th>\n",
       "      <td>2019-19-19</td>\n",
       "    </tr>\n",
       "  </tbody>\n",
       "</table>\n",
       "</div>"
      ],
      "text/plain": [
       "         item_date\n",
       "105485  2019-19-19"
      ]
     },
     "execution_count": 12,
     "metadata": {},
     "output_type": "execute_result"
    }
   ],
   "source": [
    "# Got error msg for this date as month can't be 19, so removing it\n",
    "\n",
    "df[['item_date']][df['item_date']=='2019-19-19']"
   ]
  },
  {
   "cell_type": "code",
   "execution_count": 13,
   "id": "53503cc3",
   "metadata": {},
   "outputs": [],
   "source": [
    "df = df.drop(df[df['item_date']=='2019-19-19'].index)"
   ]
  },
  {
   "cell_type": "code",
   "execution_count": 14,
   "id": "b7b68116",
   "metadata": {},
   "outputs": [],
   "source": [
    "#from datetime import datetime\n",
    "\n",
    "df['item_date']=pd.to_datetime(df['item_date'])"
   ]
  },
  {
   "cell_type": "code",
   "execution_count": 15,
   "id": "6f3b0a05",
   "metadata": {},
   "outputs": [],
   "source": [
    "# extracting date related columns from the item_date and then dropping the original column\n",
    "\n",
    "import datetime as dt\n",
    "df['year']=df['item_date'].dt.year\n",
    "df['month']=df['item_date'].dt.month\n",
    "df['day']=df['item_date'].dt.day\n",
    "df['dayofweek']=df['item_date'].dt.dayofweek\n",
    "\n",
    "df = df.drop(['item_date'],axis=1)"
   ]
  },
  {
   "cell_type": "code",
   "execution_count": 16,
   "id": "f16d4bbf",
   "metadata": {},
   "outputs": [
    {
     "data": {
      "text/html": [
       "<div>\n",
       "<style scoped>\n",
       "    .dataframe tbody tr th:only-of-type {\n",
       "        vertical-align: middle;\n",
       "    }\n",
       "\n",
       "    .dataframe tbody tr th {\n",
       "        vertical-align: top;\n",
       "    }\n",
       "\n",
       "    .dataframe thead th {\n",
       "        text-align: right;\n",
       "    }\n",
       "</style>\n",
       "<table border=\"1\" class=\"dataframe\">\n",
       "  <thead>\n",
       "    <tr style=\"text-align: right;\">\n",
       "      <th></th>\n",
       "      <th>quantity tons</th>\n",
       "    </tr>\n",
       "  </thead>\n",
       "  <tbody>\n",
       "    <tr>\n",
       "      <th>173086</th>\n",
       "      <td>e</td>\n",
       "    </tr>\n",
       "  </tbody>\n",
       "</table>\n",
       "</div>"
      ],
      "text/plain": [
       "       quantity tons\n",
       "173086             e"
      ]
     },
     "execution_count": 16,
     "metadata": {},
     "output_type": "execute_result"
    }
   ],
   "source": [
    "# error in rounding off the values, so eliminating row with 'e'\n",
    "\n",
    "df[['quantity tons']][df['quantity tons']=='e']"
   ]
  },
  {
   "cell_type": "code",
   "execution_count": 17,
   "id": "217079e9",
   "metadata": {},
   "outputs": [],
   "source": [
    "df = df.drop(df[df['quantity tons']=='e'].index)"
   ]
  },
  {
   "cell_type": "code",
   "execution_count": 18,
   "id": "a28e2d35",
   "metadata": {},
   "outputs": [],
   "source": [
    "# rounding off quantity tons to 2 decimal places\n",
    "\n",
    "df['quantity tons']=df['quantity tons'].apply(lambda x:round(float(x),2))"
   ]
  },
  {
   "cell_type": "code",
   "execution_count": 19,
   "id": "faf8dcbf",
   "metadata": {},
   "outputs": [
    {
     "data": {
      "text/html": [
       "<div>\n",
       "<style scoped>\n",
       "    .dataframe tbody tr th:only-of-type {\n",
       "        vertical-align: middle;\n",
       "    }\n",
       "\n",
       "    .dataframe tbody tr th {\n",
       "        vertical-align: top;\n",
       "    }\n",
       "\n",
       "    .dataframe thead th {\n",
       "        text-align: right;\n",
       "    }\n",
       "</style>\n",
       "<table border=\"1\" class=\"dataframe\">\n",
       "  <thead>\n",
       "    <tr style=\"text-align: right;\">\n",
       "      <th></th>\n",
       "      <th>quantity tons</th>\n",
       "    </tr>\n",
       "  </thead>\n",
       "  <tbody>\n",
       "    <tr>\n",
       "      <th>105730</th>\n",
       "      <td>-4.00</td>\n",
       "    </tr>\n",
       "    <tr>\n",
       "      <th>131473</th>\n",
       "      <td>-1.48</td>\n",
       "    </tr>\n",
       "    <tr>\n",
       "      <th>181661</th>\n",
       "      <td>-18.00</td>\n",
       "    </tr>\n",
       "    <tr>\n",
       "      <th>181671</th>\n",
       "      <td>-2000.00</td>\n",
       "    </tr>\n",
       "  </tbody>\n",
       "</table>\n",
       "</div>"
      ],
      "text/plain": [
       "        quantity tons\n",
       "105730          -4.00\n",
       "131473          -1.48\n",
       "181661         -18.00\n",
       "181671       -2000.00"
      ]
     },
     "execution_count": 19,
     "metadata": {},
     "output_type": "execute_result"
    }
   ],
   "source": [
    "# checking for negative values\n",
    "\n",
    "df[['quantity tons']][df['quantity tons']<0]"
   ]
  },
  {
   "cell_type": "code",
   "execution_count": 20,
   "id": "f57d757d",
   "metadata": {},
   "outputs": [],
   "source": [
    "# some values are too small to be real to putting a threshold of 0.01 to eliminate ~0 and negatives\n",
    "\n",
    "df = df.drop(df[df['quantity tons']<0.01].index)"
   ]
  },
  {
   "cell_type": "code",
   "execution_count": 21,
   "id": "de862224",
   "metadata": {
    "scrolled": true
   },
   "outputs": [
    {
     "data": {
      "text/html": [
       "<div>\n",
       "<style scoped>\n",
       "    .dataframe tbody tr th:only-of-type {\n",
       "        vertical-align: middle;\n",
       "    }\n",
       "\n",
       "    .dataframe tbody tr th {\n",
       "        vertical-align: top;\n",
       "    }\n",
       "\n",
       "    .dataframe thead th {\n",
       "        text-align: right;\n",
       "    }\n",
       "</style>\n",
       "<table border=\"1\" class=\"dataframe\">\n",
       "  <thead>\n",
       "    <tr style=\"text-align: right;\">\n",
       "      <th></th>\n",
       "      <th>quantity tons</th>\n",
       "    </tr>\n",
       "  </thead>\n",
       "  <tbody>\n",
       "    <tr>\n",
       "      <th>173022</th>\n",
       "      <td>1.000000e+09</td>\n",
       "    </tr>\n",
       "    <tr>\n",
       "      <th>173211</th>\n",
       "      <td>5.000000e+07</td>\n",
       "    </tr>\n",
       "  </tbody>\n",
       "</table>\n",
       "</div>"
      ],
      "text/plain": [
       "        quantity tons\n",
       "173022   1.000000e+09\n",
       "173211   5.000000e+07"
      ]
     },
     "execution_count": 21,
     "metadata": {},
     "output_type": "execute_result"
    }
   ],
   "source": [
    "# some values are too large to be true. Eliminating those values\n",
    "\n",
    "df[['quantity tons']][df['quantity tons']>100000]"
   ]
  },
  {
   "cell_type": "code",
   "execution_count": 22,
   "id": "9e2bf9ec",
   "metadata": {},
   "outputs": [],
   "source": [
    "df = df.drop(df[df['quantity tons']>100000].index)"
   ]
  },
  {
   "cell_type": "code",
   "execution_count": 23,
   "id": "1b229496",
   "metadata": {
    "scrolled": true
   },
   "outputs": [
    {
     "name": "stdout",
     "output_type": "stream",
     "text": [
      "4\n"
     ]
    }
   ],
   "source": [
    "# Country can be an important determinant of price. So identifying null values\n",
    "# and deleting them\n",
    "\n",
    "print(df['country'].isna().sum())"
   ]
  },
  {
   "cell_type": "code",
   "execution_count": 24,
   "id": "e029415f",
   "metadata": {},
   "outputs": [],
   "source": [
    "df = df.drop(df[df['country'].isna()].index)"
   ]
  },
  {
   "cell_type": "code",
   "execution_count": 25,
   "id": "57395db8",
   "metadata": {},
   "outputs": [
    {
     "data": {
      "text/plain": [
       "array(['W', 'WI', 'S', 'Others', 'PL', 'IPL', 'SLAWR'], dtype=object)"
      ]
     },
     "execution_count": 25,
     "metadata": {},
     "output_type": "execute_result"
    }
   ],
   "source": [
    "# Checking the item type\n",
    "# Since there are only 7 values, we can go for one hot encoding\n",
    "\n",
    "df['item type'].unique()"
   ]
  },
  {
   "cell_type": "code",
   "execution_count": 26,
   "id": "0b901f95",
   "metadata": {
    "scrolled": true
   },
   "outputs": [],
   "source": [
    "# renaming the column and performing one hot encoding\n",
    "# dropping the original column afterwards\n",
    "\n",
    "df = df.rename(columns={'item type': 'item_type'})\n",
    "df=pd.concat([df,pd.get_dummies(df.item_type).add_prefix('item_type_')],axis=1)\n",
    "df=df.drop('item_type',axis=1)\n"
   ]
  },
  {
   "cell_type": "code",
   "execution_count": 27,
   "id": "8ca13cd5",
   "metadata": {},
   "outputs": [
    {
     "name": "stdout",
     "output_type": "stream",
     "text": [
      "1\n"
     ]
    }
   ],
   "source": [
    "# identifying null values in thickness and eliminating those\n",
    "\n",
    "print(df['thickness'].isna().sum())"
   ]
  },
  {
   "cell_type": "code",
   "execution_count": 28,
   "id": "11a22051",
   "metadata": {},
   "outputs": [],
   "source": [
    "df = df.drop(df[df['thickness'].isna()].index)"
   ]
  },
  {
   "cell_type": "code",
   "execution_count": 29,
   "id": "3710c267",
   "metadata": {
    "scrolled": false
   },
   "outputs": [
    {
     "data": {
      "text/html": [
       "<div>\n",
       "<style scoped>\n",
       "    .dataframe tbody tr th:only-of-type {\n",
       "        vertical-align: middle;\n",
       "    }\n",
       "\n",
       "    .dataframe tbody tr th {\n",
       "        vertical-align: top;\n",
       "    }\n",
       "\n",
       "    .dataframe thead th {\n",
       "        text-align: right;\n",
       "    }\n",
       "</style>\n",
       "<table border=\"1\" class=\"dataframe\">\n",
       "  <thead>\n",
       "    <tr style=\"text-align: right;\">\n",
       "      <th></th>\n",
       "      <th>thickness</th>\n",
       "    </tr>\n",
       "  </thead>\n",
       "  <tbody>\n",
       "    <tr>\n",
       "      <th>41</th>\n",
       "      <td>2500.0</td>\n",
       "    </tr>\n",
       "    <tr>\n",
       "      <th>45001</th>\n",
       "      <td>400.0</td>\n",
       "    </tr>\n",
       "  </tbody>\n",
       "</table>\n",
       "</div>"
      ],
      "text/plain": [
       "       thickness\n",
       "41        2500.0\n",
       "45001      400.0"
      ]
     },
     "execution_count": 29,
     "metadata": {},
     "output_type": "execute_result"
    }
   ],
   "source": [
    "# Checking for disproportionately high thickness and eliminating\n",
    "\n",
    "df[['thickness']][df['thickness']>50]"
   ]
  },
  {
   "cell_type": "code",
   "execution_count": 30,
   "id": "4e0bd405",
   "metadata": {},
   "outputs": [],
   "source": [
    "df = df.drop(df[df['thickness']>50].index)"
   ]
  },
  {
   "cell_type": "code",
   "execution_count": 31,
   "id": "d25b7792",
   "metadata": {},
   "outputs": [
    {
     "name": "stdout",
     "output_type": "stream",
     "text": [
      "0\n"
     ]
    }
   ],
   "source": [
    "# checking for null values in width\n",
    "\n",
    "print(df['width'].isna().sum())"
   ]
  },
  {
   "cell_type": "code",
   "execution_count": 32,
   "id": "e502439a",
   "metadata": {
    "scrolled": true
   },
   "outputs": [
    {
     "data": {
      "text/html": [
       "<div>\n",
       "<style scoped>\n",
       "    .dataframe tbody tr th:only-of-type {\n",
       "        vertical-align: middle;\n",
       "    }\n",
       "\n",
       "    .dataframe tbody tr th {\n",
       "        vertical-align: top;\n",
       "    }\n",
       "\n",
       "    .dataframe thead th {\n",
       "        text-align: right;\n",
       "    }\n",
       "</style>\n",
       "<table border=\"1\" class=\"dataframe\">\n",
       "  <thead>\n",
       "    <tr style=\"text-align: right;\">\n",
       "      <th></th>\n",
       "      <th>width</th>\n",
       "    </tr>\n",
       "  </thead>\n",
       "  <tbody>\n",
       "    <tr>\n",
       "      <th>526</th>\n",
       "      <td>1.0</td>\n",
       "    </tr>\n",
       "  </tbody>\n",
       "</table>\n",
       "</div>"
      ],
      "text/plain": [
       "     width\n",
       "526    1.0"
      ]
     },
     "execution_count": 32,
     "metadata": {},
     "output_type": "execute_result"
    }
   ],
   "source": [
    "# checking for comparatively very low values of width\n",
    "\n",
    "df[['width']][df['width']<20]"
   ]
  },
  {
   "cell_type": "code",
   "execution_count": 33,
   "id": "a784b82a",
   "metadata": {
    "scrolled": true
   },
   "outputs": [],
   "source": [
    "df = df.drop(df[df['width']<20].index)\n"
   ]
  },
  {
   "cell_type": "code",
   "execution_count": 34,
   "id": "46e83ca6",
   "metadata": {},
   "outputs": [
    {
     "name": "stdout",
     "output_type": "stream",
     "text": [
      "1\n"
     ]
    }
   ],
   "source": [
    "# checking for null values in selling_price and eliminating them\n",
    "\n",
    "print(df['selling_price'].isna().sum())"
   ]
  },
  {
   "cell_type": "code",
   "execution_count": 35,
   "id": "2c45c746",
   "metadata": {},
   "outputs": [],
   "source": [
    "df = df.drop(df[df['selling_price'].isna()].index)"
   ]
  },
  {
   "cell_type": "code",
   "execution_count": 36,
   "id": "909b240b",
   "metadata": {
    "scrolled": false
   },
   "outputs": [
    {
     "data": {
      "text/html": [
       "<div>\n",
       "<style scoped>\n",
       "    .dataframe tbody tr th:only-of-type {\n",
       "        vertical-align: middle;\n",
       "    }\n",
       "\n",
       "    .dataframe tbody tr th {\n",
       "        vertical-align: top;\n",
       "    }\n",
       "\n",
       "    .dataframe thead th {\n",
       "        text-align: right;\n",
       "    }\n",
       "</style>\n",
       "<table border=\"1\" class=\"dataframe\">\n",
       "  <thead>\n",
       "    <tr style=\"text-align: right;\">\n",
       "      <th></th>\n",
       "      <th>selling_price</th>\n",
       "    </tr>\n",
       "  </thead>\n",
       "  <tbody>\n",
       "    <tr>\n",
       "      <th>28</th>\n",
       "      <td>-1160.0</td>\n",
       "    </tr>\n",
       "    <tr>\n",
       "      <th>44761</th>\n",
       "      <td>-730.0</td>\n",
       "    </tr>\n",
       "    <tr>\n",
       "      <th>44810</th>\n",
       "      <td>-445.0</td>\n",
       "    </tr>\n",
       "    <tr>\n",
       "      <th>44865</th>\n",
       "      <td>-25.0</td>\n",
       "    </tr>\n",
       "    <tr>\n",
       "      <th>45358</th>\n",
       "      <td>0.0</td>\n",
       "    </tr>\n",
       "    <tr>\n",
       "      <th>45505</th>\n",
       "      <td>0.1</td>\n",
       "    </tr>\n",
       "    <tr>\n",
       "      <th>105189</th>\n",
       "      <td>-336.0</td>\n",
       "    </tr>\n",
       "  </tbody>\n",
       "</table>\n",
       "</div>"
      ],
      "text/plain": [
       "        selling_price\n",
       "28            -1160.0\n",
       "44761          -730.0\n",
       "44810          -445.0\n",
       "44865           -25.0\n",
       "45358             0.0\n",
       "45505             0.1\n",
       "105189         -336.0"
      ]
     },
     "execution_count": 36,
     "metadata": {},
     "output_type": "execute_result"
    }
   ],
   "source": [
    "# some prices are negative or very low, That doesn't make sense so has to be removed\n",
    "\n",
    "df[['selling_price']][df['selling_price']<5]"
   ]
  },
  {
   "cell_type": "code",
   "execution_count": 37,
   "id": "b86e54f7",
   "metadata": {},
   "outputs": [],
   "source": [
    "df = df.drop(df[df['selling_price']<500].index)"
   ]
  },
  {
   "cell_type": "code",
   "execution_count": 38,
   "id": "facd88f1",
   "metadata": {
    "scrolled": true
   },
   "outputs": [
    {
     "data": {
      "text/html": [
       "<div>\n",
       "<style scoped>\n",
       "    .dataframe tbody tr th:only-of-type {\n",
       "        vertical-align: middle;\n",
       "    }\n",
       "\n",
       "    .dataframe tbody tr th {\n",
       "        vertical-align: top;\n",
       "    }\n",
       "\n",
       "    .dataframe thead th {\n",
       "        text-align: right;\n",
       "    }\n",
       "</style>\n",
       "<table border=\"1\" class=\"dataframe\">\n",
       "  <thead>\n",
       "    <tr style=\"text-align: right;\">\n",
       "      <th></th>\n",
       "      <th>selling_price</th>\n",
       "    </tr>\n",
       "  </thead>\n",
       "  <tbody>\n",
       "    <tr>\n",
       "      <th>10228</th>\n",
       "      <td>1.000009e+08</td>\n",
       "    </tr>\n",
       "    <tr>\n",
       "      <th>36192</th>\n",
       "      <td>1.000010e+08</td>\n",
       "    </tr>\n",
       "    <tr>\n",
       "      <th>123570</th>\n",
       "      <td>8.123614e+04</td>\n",
       "    </tr>\n",
       "    <tr>\n",
       "      <th>124547</th>\n",
       "      <td>1.091300e+04</td>\n",
       "    </tr>\n",
       "  </tbody>\n",
       "</table>\n",
       "</div>"
      ],
      "text/plain": [
       "        selling_price\n",
       "10228    1.000009e+08\n",
       "36192    1.000010e+08\n",
       "123570   8.123614e+04\n",
       "124547   1.091300e+04"
      ]
     },
     "execution_count": 38,
     "metadata": {},
     "output_type": "execute_result"
    }
   ],
   "source": [
    "# checking for disproportionately high prices and eliminating those\n",
    "\n",
    "df[['selling_price']][df['selling_price']>10000]"
   ]
  },
  {
   "cell_type": "code",
   "execution_count": 39,
   "id": "a6320714",
   "metadata": {},
   "outputs": [],
   "source": [
    "df = df.drop(df[df['selling_price']>6000].index)"
   ]
  },
  {
   "cell_type": "code",
   "execution_count": 40,
   "id": "29d24fa5",
   "metadata": {},
   "outputs": [],
   "source": [
    "# Converting the boolean columns to intergers\n",
    "\n",
    "df['item_type_IPL']=df['item_type_IPL'].astype(int)\n",
    "df['item_type_Others']=df['item_type_Others'].astype(int)\n",
    "df['item_type_PL']=df['item_type_PL'].astype(int)\n",
    "df['item_type_S']=df['item_type_S'].astype(int)\n",
    "df['item_type_SLAWR']=df['item_type_SLAWR'].astype(int)\n",
    "df['item_type_W']=df['item_type_W'].astype(int)\n",
    "df['item_type_WI']=df['item_type_WI'].astype(int)"
   ]
  },
  {
   "cell_type": "code",
   "execution_count": 41,
   "id": "f2355690",
   "metadata": {},
   "outputs": [
    {
     "name": "stdout",
     "output_type": "stream",
     "text": [
      "0.003166611129254429\n",
      "0.005841056643898882\n"
     ]
    }
   ],
   "source": [
    "# Since the correlation of day and dayofweek are very weak, let's drop it\n",
    "\n",
    "print(df['day'].corr(df['selling_price']))\n",
    "print(df['dayofweek'].corr(df['selling_price']))"
   ]
  },
  {
   "cell_type": "code",
   "execution_count": 42,
   "id": "d9503764",
   "metadata": {
    "scrolled": true
   },
   "outputs": [
    {
     "data": {
      "text/html": [
       "<div>\n",
       "<style scoped>\n",
       "    .dataframe tbody tr th:only-of-type {\n",
       "        vertical-align: middle;\n",
       "    }\n",
       "\n",
       "    .dataframe tbody tr th {\n",
       "        vertical-align: top;\n",
       "    }\n",
       "\n",
       "    .dataframe thead th {\n",
       "        text-align: right;\n",
       "    }\n",
       "</style>\n",
       "<table border=\"1\" class=\"dataframe\">\n",
       "  <thead>\n",
       "    <tr style=\"text-align: right;\">\n",
       "      <th></th>\n",
       "      <th>quantity tons</th>\n",
       "      <th>country</th>\n",
       "      <th>status</th>\n",
       "      <th>application</th>\n",
       "      <th>thickness</th>\n",
       "      <th>width</th>\n",
       "      <th>selling_price</th>\n",
       "      <th>year</th>\n",
       "      <th>month</th>\n",
       "      <th>item_type_IPL</th>\n",
       "      <th>item_type_Others</th>\n",
       "      <th>item_type_PL</th>\n",
       "      <th>item_type_S</th>\n",
       "      <th>item_type_SLAWR</th>\n",
       "      <th>item_type_W</th>\n",
       "      <th>item_type_WI</th>\n",
       "    </tr>\n",
       "  </thead>\n",
       "  <tbody>\n",
       "    <tr>\n",
       "      <th>0</th>\n",
       "      <td>54.15</td>\n",
       "      <td>28.0</td>\n",
       "      <td>Won</td>\n",
       "      <td>10.0</td>\n",
       "      <td>2.00</td>\n",
       "      <td>1500.0</td>\n",
       "      <td>854.00</td>\n",
       "      <td>2021</td>\n",
       "      <td>4</td>\n",
       "      <td>0</td>\n",
       "      <td>0</td>\n",
       "      <td>0</td>\n",
       "      <td>0</td>\n",
       "      <td>0</td>\n",
       "      <td>1</td>\n",
       "      <td>0</td>\n",
       "    </tr>\n",
       "    <tr>\n",
       "      <th>1</th>\n",
       "      <td>768.02</td>\n",
       "      <td>25.0</td>\n",
       "      <td>Won</td>\n",
       "      <td>41.0</td>\n",
       "      <td>0.80</td>\n",
       "      <td>1210.0</td>\n",
       "      <td>1047.00</td>\n",
       "      <td>2021</td>\n",
       "      <td>4</td>\n",
       "      <td>0</td>\n",
       "      <td>0</td>\n",
       "      <td>0</td>\n",
       "      <td>0</td>\n",
       "      <td>0</td>\n",
       "      <td>1</td>\n",
       "      <td>0</td>\n",
       "    </tr>\n",
       "    <tr>\n",
       "      <th>2</th>\n",
       "      <td>386.13</td>\n",
       "      <td>30.0</td>\n",
       "      <td>Won</td>\n",
       "      <td>28.0</td>\n",
       "      <td>0.38</td>\n",
       "      <td>952.0</td>\n",
       "      <td>644.33</td>\n",
       "      <td>2021</td>\n",
       "      <td>4</td>\n",
       "      <td>0</td>\n",
       "      <td>0</td>\n",
       "      <td>0</td>\n",
       "      <td>0</td>\n",
       "      <td>0</td>\n",
       "      <td>0</td>\n",
       "      <td>1</td>\n",
       "    </tr>\n",
       "    <tr>\n",
       "      <th>3</th>\n",
       "      <td>202.41</td>\n",
       "      <td>32.0</td>\n",
       "      <td>Won</td>\n",
       "      <td>59.0</td>\n",
       "      <td>2.30</td>\n",
       "      <td>1317.0</td>\n",
       "      <td>768.00</td>\n",
       "      <td>2021</td>\n",
       "      <td>4</td>\n",
       "      <td>0</td>\n",
       "      <td>0</td>\n",
       "      <td>0</td>\n",
       "      <td>1</td>\n",
       "      <td>0</td>\n",
       "      <td>0</td>\n",
       "      <td>0</td>\n",
       "    </tr>\n",
       "    <tr>\n",
       "      <th>4</th>\n",
       "      <td>785.53</td>\n",
       "      <td>28.0</td>\n",
       "      <td>Won</td>\n",
       "      <td>10.0</td>\n",
       "      <td>4.00</td>\n",
       "      <td>2000.0</td>\n",
       "      <td>577.00</td>\n",
       "      <td>2021</td>\n",
       "      <td>4</td>\n",
       "      <td>0</td>\n",
       "      <td>0</td>\n",
       "      <td>0</td>\n",
       "      <td>0</td>\n",
       "      <td>0</td>\n",
       "      <td>1</td>\n",
       "      <td>0</td>\n",
       "    </tr>\n",
       "    <tr>\n",
       "      <th>...</th>\n",
       "      <td>...</td>\n",
       "      <td>...</td>\n",
       "      <td>...</td>\n",
       "      <td>...</td>\n",
       "      <td>...</td>\n",
       "      <td>...</td>\n",
       "      <td>...</td>\n",
       "      <td>...</td>\n",
       "      <td>...</td>\n",
       "      <td>...</td>\n",
       "      <td>...</td>\n",
       "      <td>...</td>\n",
       "      <td>...</td>\n",
       "      <td>...</td>\n",
       "      <td>...</td>\n",
       "      <td>...</td>\n",
       "    </tr>\n",
       "    <tr>\n",
       "      <th>181667</th>\n",
       "      <td>106.78</td>\n",
       "      <td>25.0</td>\n",
       "      <td>Won</td>\n",
       "      <td>41.0</td>\n",
       "      <td>0.96</td>\n",
       "      <td>1240.0</td>\n",
       "      <td>602.00</td>\n",
       "      <td>2020</td>\n",
       "      <td>7</td>\n",
       "      <td>0</td>\n",
       "      <td>0</td>\n",
       "      <td>0</td>\n",
       "      <td>0</td>\n",
       "      <td>0</td>\n",
       "      <td>1</td>\n",
       "      <td>0</td>\n",
       "    </tr>\n",
       "    <tr>\n",
       "      <th>181668</th>\n",
       "      <td>102.48</td>\n",
       "      <td>25.0</td>\n",
       "      <td>Won</td>\n",
       "      <td>41.0</td>\n",
       "      <td>0.96</td>\n",
       "      <td>1220.0</td>\n",
       "      <td>591.00</td>\n",
       "      <td>2020</td>\n",
       "      <td>7</td>\n",
       "      <td>0</td>\n",
       "      <td>0</td>\n",
       "      <td>0</td>\n",
       "      <td>0</td>\n",
       "      <td>0</td>\n",
       "      <td>1</td>\n",
       "      <td>0</td>\n",
       "    </tr>\n",
       "    <tr>\n",
       "      <th>181669</th>\n",
       "      <td>208.09</td>\n",
       "      <td>25.0</td>\n",
       "      <td>Won</td>\n",
       "      <td>41.0</td>\n",
       "      <td>0.95</td>\n",
       "      <td>1500.0</td>\n",
       "      <td>589.00</td>\n",
       "      <td>2020</td>\n",
       "      <td>7</td>\n",
       "      <td>0</td>\n",
       "      <td>0</td>\n",
       "      <td>0</td>\n",
       "      <td>0</td>\n",
       "      <td>0</td>\n",
       "      <td>1</td>\n",
       "      <td>0</td>\n",
       "    </tr>\n",
       "    <tr>\n",
       "      <th>181670</th>\n",
       "      <td>4.24</td>\n",
       "      <td>25.0</td>\n",
       "      <td>Won</td>\n",
       "      <td>41.0</td>\n",
       "      <td>0.71</td>\n",
       "      <td>1250.0</td>\n",
       "      <td>619.00</td>\n",
       "      <td>2020</td>\n",
       "      <td>7</td>\n",
       "      <td>0</td>\n",
       "      <td>0</td>\n",
       "      <td>0</td>\n",
       "      <td>0</td>\n",
       "      <td>0</td>\n",
       "      <td>1</td>\n",
       "      <td>0</td>\n",
       "    </tr>\n",
       "    <tr>\n",
       "      <th>181672</th>\n",
       "      <td>406.69</td>\n",
       "      <td>25.0</td>\n",
       "      <td>Won</td>\n",
       "      <td>41.0</td>\n",
       "      <td>0.71</td>\n",
       "      <td>1240.0</td>\n",
       "      <td>607.00</td>\n",
       "      <td>2020</td>\n",
       "      <td>7</td>\n",
       "      <td>0</td>\n",
       "      <td>0</td>\n",
       "      <td>0</td>\n",
       "      <td>0</td>\n",
       "      <td>0</td>\n",
       "      <td>1</td>\n",
       "      <td>0</td>\n",
       "    </tr>\n",
       "  </tbody>\n",
       "</table>\n",
       "<p>174650 rows × 16 columns</p>\n",
       "</div>"
      ],
      "text/plain": [
       "        quantity tons  country status  application  thickness   width  \\\n",
       "0               54.15     28.0    Won         10.0       2.00  1500.0   \n",
       "1              768.02     25.0    Won         41.0       0.80  1210.0   \n",
       "2              386.13     30.0    Won         28.0       0.38   952.0   \n",
       "3              202.41     32.0    Won         59.0       2.30  1317.0   \n",
       "4              785.53     28.0    Won         10.0       4.00  2000.0   \n",
       "...               ...      ...    ...          ...        ...     ...   \n",
       "181667         106.78     25.0    Won         41.0       0.96  1240.0   \n",
       "181668         102.48     25.0    Won         41.0       0.96  1220.0   \n",
       "181669         208.09     25.0    Won         41.0       0.95  1500.0   \n",
       "181670           4.24     25.0    Won         41.0       0.71  1250.0   \n",
       "181672         406.69     25.0    Won         41.0       0.71  1240.0   \n",
       "\n",
       "        selling_price  year  month  item_type_IPL  item_type_Others  \\\n",
       "0              854.00  2021      4              0                 0   \n",
       "1             1047.00  2021      4              0                 0   \n",
       "2              644.33  2021      4              0                 0   \n",
       "3              768.00  2021      4              0                 0   \n",
       "4              577.00  2021      4              0                 0   \n",
       "...               ...   ...    ...            ...               ...   \n",
       "181667         602.00  2020      7              0                 0   \n",
       "181668         591.00  2020      7              0                 0   \n",
       "181669         589.00  2020      7              0                 0   \n",
       "181670         619.00  2020      7              0                 0   \n",
       "181672         607.00  2020      7              0                 0   \n",
       "\n",
       "        item_type_PL  item_type_S  item_type_SLAWR  item_type_W  item_type_WI  \n",
       "0                  0            0                0            1             0  \n",
       "1                  0            0                0            1             0  \n",
       "2                  0            0                0            0             1  \n",
       "3                  0            1                0            0             0  \n",
       "4                  0            0                0            1             0  \n",
       "...              ...          ...              ...          ...           ...  \n",
       "181667             0            0                0            1             0  \n",
       "181668             0            0                0            1             0  \n",
       "181669             0            0                0            1             0  \n",
       "181670             0            0                0            1             0  \n",
       "181672             0            0                0            1             0  \n",
       "\n",
       "[174650 rows x 16 columns]"
      ]
     },
     "execution_count": 42,
     "metadata": {},
     "output_type": "execute_result"
    }
   ],
   "source": [
    "df = df.drop(['day'],axis=1)\n",
    "df = df.drop(['dayofweek'],axis=1)\n",
    "df"
   ]
  },
  {
   "cell_type": "code",
   "execution_count": 43,
   "id": "56cc8237",
   "metadata": {
    "scrolled": true
   },
   "outputs": [],
   "source": [
    "with open('copper_clean.csv', 'w') as f:\n",
    "    f.write(df.to_csv())"
   ]
  },
  {
   "cell_type": "code",
   "execution_count": 44,
   "id": "61d7ff4f",
   "metadata": {},
   "outputs": [],
   "source": [
    "# dropping 'status' from df to get dataframe df1 for regression\n",
    "\n",
    "df1 = df.drop(['status'],axis=1)"
   ]
  },
  {
   "cell_type": "code",
   "execution_count": 45,
   "id": "d8f1e837",
   "metadata": {},
   "outputs": [],
   "source": [
    "# defining the target and the independent variables\n",
    "\n",
    "y=df1['selling_price']\n",
    "x=df1.drop('selling_price',axis=1)"
   ]
  },
  {
   "cell_type": "code",
   "execution_count": 46,
   "id": "771c7f47",
   "metadata": {},
   "outputs": [],
   "source": [
    "# importing necesssary libraries and splitting data into train and test\n",
    "\n",
    "from sklearn.model_selection import train_test_split\n",
    "x_train, x_test, y_train, y_test = train_test_split(x, y, test_size = 0.25)\n",
    "\n",
    "from sklearn.metrics import r2_score\n",
    "from sklearn.metrics import mean_absolute_error"
   ]
  },
  {
   "cell_type": "code",
   "execution_count": 47,
   "id": "f2109f7c",
   "metadata": {},
   "outputs": [
    {
     "name": "stdout",
     "output_type": "stream",
     "text": [
      "0.013264179961159916\n",
      "104.18889702003366\n"
     ]
    }
   ],
   "source": [
    "# trying out linear regression\n",
    "\n",
    "from sklearn.linear_model import LinearRegression\n",
    "regressor = LinearRegression()\n",
    "regressor.fit(x_train,y_train)\n",
    "y_pred=regressor.predict(x_test)\n",
    "\n",
    "print(r2_score(y_pred,y_test))\n",
    "print(mean_absolute_error(y_pred,y_test))"
   ]
  },
  {
   "cell_type": "code",
   "execution_count": 48,
   "id": "4a851ebd",
   "metadata": {},
   "outputs": [
    {
     "name": "stdout",
     "output_type": "stream",
     "text": [
      "0.8399469415667902\n",
      "48.488150261675166\n"
     ]
    }
   ],
   "source": [
    "# trying gradient boosting regressor\n",
    "\n",
    "from sklearn.ensemble import GradientBoostingRegressor\n",
    "regressor = GradientBoostingRegressor(max_depth=15)\n",
    "regressor.fit(x_train,y_train)\n",
    "y_pred=regressor.predict(x_test)\n",
    "\n",
    "print(r2_score(y_pred,y_test))\n",
    "print(mean_absolute_error(y_pred,y_test))"
   ]
  },
  {
   "cell_type": "code",
   "execution_count": 49,
   "id": "4fefc1bd",
   "metadata": {},
   "outputs": [
    {
     "data": {
      "text/html": [
       "<div>\n",
       "<style scoped>\n",
       "    .dataframe tbody tr th:only-of-type {\n",
       "        vertical-align: middle;\n",
       "    }\n",
       "\n",
       "    .dataframe tbody tr th {\n",
       "        vertical-align: top;\n",
       "    }\n",
       "\n",
       "    .dataframe thead th {\n",
       "        text-align: right;\n",
       "    }\n",
       "</style>\n",
       "<table border=\"1\" class=\"dataframe\">\n",
       "  <thead>\n",
       "    <tr style=\"text-align: right;\">\n",
       "      <th></th>\n",
       "      <th>quantity tons</th>\n",
       "      <th>country</th>\n",
       "      <th>application</th>\n",
       "      <th>thickness</th>\n",
       "      <th>width</th>\n",
       "      <th>year</th>\n",
       "      <th>month</th>\n",
       "      <th>item_type_IPL</th>\n",
       "      <th>item_type_Others</th>\n",
       "      <th>item_type_PL</th>\n",
       "      <th>item_type_S</th>\n",
       "      <th>item_type_SLAWR</th>\n",
       "      <th>item_type_W</th>\n",
       "      <th>item_type_WI</th>\n",
       "    </tr>\n",
       "  </thead>\n",
       "  <tbody>\n",
       "    <tr>\n",
       "      <th>35577</th>\n",
       "      <td>54.78</td>\n",
       "      <td>27.0</td>\n",
       "      <td>15.0</td>\n",
       "      <td>5.0</td>\n",
       "      <td>1500.0</td>\n",
       "      <td>2021</td>\n",
       "      <td>2</td>\n",
       "      <td>0</td>\n",
       "      <td>0</td>\n",
       "      <td>0</td>\n",
       "      <td>1</td>\n",
       "      <td>0</td>\n",
       "      <td>0</td>\n",
       "      <td>0</td>\n",
       "    </tr>\n",
       "    <tr>\n",
       "      <th>35538</th>\n",
       "      <td>51.72</td>\n",
       "      <td>26.0</td>\n",
       "      <td>10.0</td>\n",
       "      <td>4.0</td>\n",
       "      <td>1500.0</td>\n",
       "      <td>2021</td>\n",
       "      <td>2</td>\n",
       "      <td>0</td>\n",
       "      <td>0</td>\n",
       "      <td>0</td>\n",
       "      <td>1</td>\n",
       "      <td>0</td>\n",
       "      <td>0</td>\n",
       "      <td>0</td>\n",
       "    </tr>\n",
       "    <tr>\n",
       "      <th>67985</th>\n",
       "      <td>83.65</td>\n",
       "      <td>28.0</td>\n",
       "      <td>10.0</td>\n",
       "      <td>5.0</td>\n",
       "      <td>1920.0</td>\n",
       "      <td>2021</td>\n",
       "      <td>1</td>\n",
       "      <td>0</td>\n",
       "      <td>0</td>\n",
       "      <td>0</td>\n",
       "      <td>0</td>\n",
       "      <td>0</td>\n",
       "      <td>1</td>\n",
       "      <td>0</td>\n",
       "    </tr>\n",
       "    <tr>\n",
       "      <th>59636</th>\n",
       "      <td>79.36</td>\n",
       "      <td>78.0</td>\n",
       "      <td>10.0</td>\n",
       "      <td>1.0</td>\n",
       "      <td>1250.0</td>\n",
       "      <td>2021</td>\n",
       "      <td>1</td>\n",
       "      <td>0</td>\n",
       "      <td>0</td>\n",
       "      <td>0</td>\n",
       "      <td>0</td>\n",
       "      <td>0</td>\n",
       "      <td>1</td>\n",
       "      <td>0</td>\n",
       "    </tr>\n",
       "    <tr>\n",
       "      <th>22428</th>\n",
       "      <td>32.66</td>\n",
       "      <td>77.0</td>\n",
       "      <td>56.0</td>\n",
       "      <td>0.6</td>\n",
       "      <td>1500.0</td>\n",
       "      <td>2021</td>\n",
       "      <td>3</td>\n",
       "      <td>0</td>\n",
       "      <td>0</td>\n",
       "      <td>0</td>\n",
       "      <td>1</td>\n",
       "      <td>0</td>\n",
       "      <td>0</td>\n",
       "      <td>0</td>\n",
       "    </tr>\n",
       "  </tbody>\n",
       "</table>\n",
       "</div>"
      ],
      "text/plain": [
       "       quantity tons  country  application  thickness   width  year  month  \\\n",
       "35577          54.78     27.0         15.0        5.0  1500.0  2021      2   \n",
       "35538          51.72     26.0         10.0        4.0  1500.0  2021      2   \n",
       "67985          83.65     28.0         10.0        5.0  1920.0  2021      1   \n",
       "59636          79.36     78.0         10.0        1.0  1250.0  2021      1   \n",
       "22428          32.66     77.0         56.0        0.6  1500.0  2021      3   \n",
       "\n",
       "       item_type_IPL  item_type_Others  item_type_PL  item_type_S  \\\n",
       "35577              0                 0             0            1   \n",
       "35538              0                 0             0            1   \n",
       "67985              0                 0             0            0   \n",
       "59636              0                 0             0            0   \n",
       "22428              0                 0             0            1   \n",
       "\n",
       "       item_type_SLAWR  item_type_W  item_type_WI  \n",
       "35577                0            0             0  \n",
       "35538                0            0             0  \n",
       "67985                0            1             0  \n",
       "59636                0            1             0  \n",
       "22428                0            0             0  "
      ]
     },
     "execution_count": 49,
     "metadata": {},
     "output_type": "execute_result"
    }
   ],
   "source": [
    "x_test.head()"
   ]
  },
  {
   "cell_type": "code",
   "execution_count": null,
   "id": "cc58c0ed",
   "metadata": {},
   "outputs": [],
   "source": [
    "import pickle\n",
    "with open('regressor','wb') as f:\n",
    "    pickle.dump(regressor,f)"
   ]
  },
  {
   "cell_type": "code",
   "execution_count": 50,
   "id": "cb2bb736",
   "metadata": {
    "scrolled": true
   },
   "outputs": [
    {
     "data": {
      "text/plain": [
       "<matplotlib.collections.PathCollection at 0x1db4a729e70>"
      ]
     },
     "execution_count": 50,
     "metadata": {},
     "output_type": "execute_result"
    },
    {
     "data": {
      "image/png": "[encoded data removed]",
      "text/plain": [
       "<Figure size 640x480 with 1 Axes>"
      ]
     },
     "metadata": {},
     "output_type": "display_data"
    }
   ],
   "source": [
    "import matplotlib.pyplot as plt\n",
    "plt.scatter(y_pred,y_test)"
   ]
  },
  {
   "cell_type": "code",
   "execution_count": 51,
   "id": "53cda47c",
   "metadata": {
    "scrolled": true
   },
   "outputs": [],
   "source": [
    "# Forming another dataframe 'df2' for predicting 'status'\n",
    "\n",
    "df2=df.drop(['selling_price'],axis=1)"
   ]
  },
  {
   "cell_type": "code",
   "execution_count": 52,
   "id": "63d45699",
   "metadata": {
    "scrolled": true
   },
   "outputs": [],
   "source": [
    "# Considering only records with Won or Lost\n",
    "\n",
    "df2=df2[(df2['status']=='Won') | (df2['status']=='Lost')]"
   ]
  },
  {
   "cell_type": "code",
   "execution_count": 53,
   "id": "29d943bf",
   "metadata": {
    "scrolled": true
   },
   "outputs": [],
   "source": [
    "# Binary encoding the column\n",
    "\n",
    "df2['status']=df2['status'].apply(lambda x: 1 if x=='Won' else 0)"
   ]
  },
  {
   "cell_type": "code",
   "execution_count": 54,
   "id": "afa96b16",
   "metadata": {},
   "outputs": [],
   "source": [
    "# Defining x and y for independent variables and target respectively\n",
    "\n",
    "y=df2['status']\n",
    "x=df2.drop('status',axis=1)"
   ]
  },
  {
   "cell_type": "code",
   "execution_count": 55,
   "id": "293419d0",
   "metadata": {},
   "outputs": [],
   "source": [
    "# Splitting the df into train and test\n",
    "\n",
    "from sklearn.model_selection import train_test_split\n",
    "x_train, x_test, y_train, y_test = train_test_split(x, y, test_size = 0.30)"
   ]
  },
  {
   "cell_type": "code",
   "execution_count": 56,
   "id": "6a786ed0",
   "metadata": {},
   "outputs": [
    {
     "name": "stdout",
     "output_type": "stream",
     "text": [
      "0.8759545876861021\n"
     ]
    }
   ],
   "source": [
    "# Trying out random forest classifier.\n",
    "# Found max_depth by hit and trial\n",
    "\n",
    "from sklearn.ensemble import RandomForestClassifier\n",
    "\n",
    "forest=RandomForestClassifier(max_depth=15)\n",
    "forest.fit(x_train,y_train)\n",
    "print(forest.score(x_test,y_test))"
   ]
  },
  {
   "cell_type": "code",
   "execution_count": 57,
   "id": "0d937a4d",
   "metadata": {},
   "outputs": [
    {
     "name": "stdout",
     "output_type": "stream",
     "text": [
      "0.8757506401685966\n"
     ]
    }
   ],
   "source": [
    "# Tried out tree classifier. Found max_depth by hit and trial\n",
    "\n",
    "from sklearn import tree\n",
    "\n",
    "c_tree = tree.DecisionTreeClassifier(max_depth=18)\n",
    "c_tree.fit(x_train,y_train)\n",
    "print(c_tree.score(x_test,y_test))"
   ]
  },
  {
   "cell_type": "code",
   "execution_count": 58,
   "id": "ea96a86f",
   "metadata": {
    "scrolled": false
   },
   "outputs": [
    {
     "name": "stdout",
     "output_type": "stream",
     "text": [
      "              precision    recall  f1-score   support\n",
      "\n",
      "           0       0.74      0.73      0.73     10335\n",
      "           1       0.92      0.92      0.92     33794\n",
      "\n",
      "    accuracy                           0.88     44129\n",
      "   macro avg       0.83      0.82      0.83     44129\n",
      "weighted avg       0.88      0.88      0.88     44129\n",
      "\n"
     ]
    }
   ],
   "source": [
    "# checking the relevant scores\n",
    "\n",
    "from sklearn.metrics import classification_report\n",
    "\n",
    "y_pred = c_tree.predict(x_test)\n",
    "result = classification_report(y_test,y_pred)\n",
    "print (result)"
   ]
  },
  {
   "cell_type": "code",
   "execution_count": 59,
   "id": "ccfb27b8",
   "metadata": {},
   "outputs": [
    {
     "data": {
      "text/plain": [
       "113063"
      ]
     },
     "execution_count": 59,
     "metadata": {},
     "output_type": "execute_result"
    }
   ],
   "source": [
    "# 113063 out of 147095 i.e. 77% of data is 'Won'\n",
    "# So we need to try out operations like undersampling, oversampling, smote etc\n",
    "\n",
    "df2['status'][df2['status']==1].sum()"
   ]
  },
  {
   "cell_type": "code",
   "execution_count": 60,
   "id": "02651e3f",
   "metadata": {
    "scrolled": true
   },
   "outputs": [],
   "source": [
    "# Trying undersampling\n",
    "\n",
    "from imblearn.under_sampling import RandomUnderSampler\n",
    "rs = RandomUnderSampler(random_state=42)\n",
    "x1,y1 = rs.fit_resample(x,y)"
   ]
  },
  {
   "cell_type": "code",
   "execution_count": 61,
   "id": "46c17ff2",
   "metadata": {},
   "outputs": [
    {
     "name": "stdout",
     "output_type": "stream",
     "text": [
      "0.8472575905974534\n"
     ]
    }
   ],
   "source": [
    "x_train, x_test, y_train, y_test = train_test_split(x1, y1, test_size = 0.30)\n",
    "\n",
    "c_tree.fit(x_train,y_train)\n",
    "print(c_tree.score(x_test,y_test))"
   ]
  },
  {
   "cell_type": "code",
   "execution_count": 62,
   "id": "27a7c60d",
   "metadata": {},
   "outputs": [],
   "source": [
    "# Trying random over-sampling\n",
    "\n",
    "from imblearn.over_sampling import RandomOverSampler\n",
    "ros = RandomOverSampler(random_state=42)\n",
    "x2,y2 = ros.fit_resample(x,y)"
   ]
  },
  {
   "cell_type": "code",
   "execution_count": 63,
   "id": "e669e107",
   "metadata": {},
   "outputs": [
    {
     "name": "stdout",
     "output_type": "stream",
     "text": [
      "0.9174803651029505\n"
     ]
    }
   ],
   "source": [
    "# Trying tree classifier with over sampled data\n",
    "\n",
    "x_train, x_test, y_train, y_test = train_test_split(x2, y2, test_size = 0.25)\n",
    "\n",
    "c_tree.fit(x_train,y_train)\n",
    "print(c_tree.score(x_test,y_test))"
   ]
  },
  {
   "cell_type": "code",
   "execution_count": null,
   "id": "77294192",
   "metadata": {},
   "outputs": [],
   "source": [
    "import pickle\n",
    "with open('classifier','wb') as f:\n",
    "    pickle.dump(c_tree,f)"
   ]
  },
  {
   "cell_type": "code",
   "execution_count": 64,
   "id": "63d280dd",
   "metadata": {
    "scrolled": true
   },
   "outputs": [
    {
     "name": "stdout",
     "output_type": "stream",
     "text": [
      "              precision    recall  f1-score   support\n",
      "\n",
      "           0       0.89      0.96      0.92     28191\n",
      "           1       0.95      0.88      0.91     28341\n",
      "\n",
      "    accuracy                           0.92     56532\n",
      "   macro avg       0.92      0.92      0.92     56532\n",
      "weighted avg       0.92      0.92      0.92     56532\n",
      "\n"
     ]
    }
   ],
   "source": [
    "y_pred = c_tree.predict(x_test)\n",
    "result = classification_report(y_test,y_pred)\n",
    "print (result)"
   ]
  },
  {
   "cell_type": "code",
   "execution_count": 65,
   "id": "299f4e4a",
   "metadata": {},
   "outputs": [
    {
     "name": "stdout",
     "output_type": "stream",
     "text": [
      "0.9046994309973762\n"
     ]
    }
   ],
   "source": [
    "# Trying out smote to create synthetic data\n",
    "# and then apply random tree classifier\n",
    "\n",
    "from imblearn.over_sampling import SMOTE\n",
    "s = SMOTE(random_state=42)\n",
    "x_smote, y_smote = s.fit_resample(x, y)\n",
    "\n",
    "x_train, x_test, y_train, y_test = train_test_split(x_smote, y_smote, test_size = 0.30)\n",
    "c_tree.fit(x_train,y_train)\n",
    "print(c_tree.score(x_test,y_test))"
   ]
  },
  {
   "cell_type": "code",
   "execution_count": 66,
   "id": "3e047f0f",
   "metadata": {
    "scrolled": true
   },
   "outputs": [
    {
     "name": "stdout",
     "output_type": "stream",
     "text": [
      "              precision    recall  f1-score   support\n",
      "\n",
      "           0       0.88      0.93      0.91     33818\n",
      "           1       0.93      0.88      0.90     34020\n",
      "\n",
      "    accuracy                           0.90     67838\n",
      "   macro avg       0.91      0.90      0.90     67838\n",
      "weighted avg       0.91      0.90      0.90     67838\n",
      "\n"
     ]
    }
   ],
   "source": [
    "y_pred = c_tree.predict(x_test)\n",
    "result = classification_report(y_test,y_pred)\n",
    "print (result)"
   ]
  }
 ],
 "metadata": {
  "kernelspec": {
   "display_name": "Python 3 (ipykernel)",
   "language": "python",
   "name": "python3"
  },
  "language_info": {
   "codemirror_mode": {
    "name": "ipython",
    "version": 3
   },
   "file_extension": ".py",
   "mimetype": "text/x-python",
   "name": "python",
   "nbconvert_exporter": "python",
   "pygments_lexer": "ipython3",
   "version": "3.10.12"
  }
 },
 "nbformat": 4,
 "nbformat_minor": 5
}
